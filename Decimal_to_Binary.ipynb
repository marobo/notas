{
 "cells": [
  {
   "cell_type": "markdown",
   "id": "5f01906f",
   "metadata": {},
   "source": [
    "# Decimal To Binary\n",
    "---\n",
    "## What is the binary representation of 20?\n",
    "\n",
    "1000101001\n",
    "The right most digit of a binary number represents the number of units\n",
    "\n",
    "The second right digit of a binary number represents the number of twos\n",
    "\n",
    "The third right digit of a binary number represents the number of fours\n",
    "\n",
    "If the last digit, the right most digit, is 0 the number is even, if it is 1 the number is odd.\n",
    "\n",
    "We use the modulo function to test if a number is even or odd, if it is divisible exactly by two or not\n",
    "\n",
    "20 % 2 = 0, so 20 is even, so the right most digit of the the binary representation of 20 is… 0\n",
    "\n",
    "33 % 2 = 1, so 33 is odd, so the right most digit of the binary representation of 333 is… 1 \n"
   ]
  },
  {
   "cell_type": "markdown",
   "id": "61523834",
   "metadata": {},
   "source": [
    "## Step 1.\n",
    "Find the number mod 2 (remainder after dividing by 2), this is the right most binary digit\n",
    "\n",
    "20 -> 0\n",
    "\n",
    "33 -> 1\n",
    "\n",
    "What is Step 2?\n",
    "\n",
    "Our original number minus the remainder we found then divided by 2\n",
    "\n",
    "20 -> 20 - 0 / 2 = 10\n",
    "\n",
    "33 -> (33 - 1) / 2 = 16\n"
   ]
  },
  {
   "cell_type": "markdown",
   "id": "f0bf9f79",
   "metadata": {},
   "source": [
    "## Step 1.\n",
    "Find the number mod 2 (remainder after dividing by 2), this is the right most binary digit\n",
    "\n",
    "20 -> 0\n",
    "\n",
    "33 -> 1\n",
    "\n",
    "What is Step 2?\n",
    "\n",
    "Our original number minus the remainder we found then divided by 2\n",
    "\n",
    "20 -> 20 - 0 / 2 = 10\n",
    "\n",
    "33 -> (33 - 1) / 2 = 16\n"
   ]
  },
  {
   "cell_type": "markdown",
   "id": "7df8ffb9",
   "metadata": {},
   "source": [
    "## 20\n",
    "\n",
    "STEP: Find the number mod 2 (remainder after dividing by 2), \n",
    "\n",
    "this is the right most binary digit, then calculate our original number minus the remainder we found then divided by 2\n",
    "\n",
    "Step 1 - 20 remainder of 0, next number 10\n",
    "\n",
    "Step 2 - 10 remainder of 0, next number 5\n",
    "\n",
    "Step 3 - 5 remainder of 1, next number (5 - 1)/ 2 = 2\n",
    "\n",
    "Step 4 - 2 remainder of 0, next number 1\n",
    "\n",
    "Step 5 - 1 remainder of 1, next number 0\n",
    "\n",
    "Result 10100 = (1*16) + (0*8) + (1*4) + (0*2) + (0*1) = 16 + 4 = 20\n"
   ]
  },
  {
   "cell_type": "markdown",
   "id": "f334ae89",
   "metadata": {},
   "source": [
    "## 39\n",
    "STEP: Find the number mod 2 (remainder after dividing by 2), \n",
    "\n",
    "this is the right most binary digit, then calculate our original number minus the remainder we found then divided by 2\n",
    "\n",
    "Step 1 - 39 remainder of 1, next number 19\n",
    "\n",
    "Step 2 - 19 remainder of 1, next number 9\n",
    "\n",
    "Step 3 - 9 remainder of 1, next number (9 - 1)/ 2 = 4\n",
    "\n",
    "Step 4 - 4 remainder of 0, next number 2\n",
    "\n",
    "Step 5 - 2 remainder of 0, next number 1\n",
    "\n",
    "Step 5 - 1 remainder of 1, next number 0\n",
    "\n",
    "Result 100111 = (1*32) + (0*16) + (0*8) + (1*4) + (1*2) + (1*1) = 32 + 4 + 2 + 1 = 39 \n"
   ]
  },
  {
   "cell_type": "markdown",
   "id": "e55e25e6",
   "metadata": {},
   "source": [
    "# Write the process in python code"
   ]
  },
  {
   "cell_type": "code",
   "execution_count": 140,
   "id": "d4798d38",
   "metadata": {},
   "outputs": [
    {
     "data": {
      "text/plain": [
       "[]"
      ]
     },
     "execution_count": 140,
     "metadata": {},
     "output_type": "execute_result"
    }
   ],
   "source": [
    "def decimal_to_binary(decimal_number):\n",
    "    decimal_number = []\n",
    "    modules = []\n",
    "    \n",
    "    for next_number in (decimal_number):\n",
    "        module_2 = decimal_number % 2\n",
    "        divide_2 = decimal_number / 2\n",
    "        decimal_number.append(divide_2)\n",
    "        modules.append(divide_2)\n",
    "    return modules\n",
    "    \n",
    "decimal_to_binary(21)"
   ]
  },
  {
   "cell_type": "code",
   "execution_count": 141,
   "id": "2b10e1d9",
   "metadata": {},
   "outputs": [
    {
     "data": {
      "text/plain": [
       "'10101'"
      ]
     },
     "execution_count": 141,
     "metadata": {},
     "output_type": "execute_result"
    }
   ],
   "source": [
    "def integer_to_binary(next_number):\n",
    "    binary_respresentation = ''\n",
    "    \n",
    "    while next_number > 0:\n",
    "        # get your reaminder\n",
    "        remainder = next_number % 2\n",
    "        # collect the remainders\n",
    "        binary_respresentation += str(remainder)\n",
    "        # find the next number\n",
    "        next_number = (next_number - remainder) // 2\n",
    "    return binary_respresentation[::-1]\n",
    "\n",
    "integer_to_binary(21)"
   ]
  },
  {
   "cell_type": "markdown",
   "id": "37096749",
   "metadata": {},
   "source": [
    "# Instead of using str"
   ]
  },
  {
   "cell_type": "code",
   "execution_count": 142,
   "id": "71458975",
   "metadata": {},
   "outputs": [
    {
     "data": {
      "text/plain": [
       "'10101'"
      ]
     },
     "execution_count": 142,
     "metadata": {},
     "output_type": "execute_result"
    }
   ],
   "source": [
    "def integer_to_binary(next_number):\n",
    "    binary_respresentation = []\n",
    "    \n",
    "    while next_number > 0:\n",
    "        # get your reaminder\n",
    "        remainder = next_number % 2\n",
    "        # collect the remainders\n",
    "        binary_respresentation.append(remainder)\n",
    "        # find the next number\n",
    "        next_number = (next_number - remainder) // 2\n",
    "    return ''.join(str(e) for e in binary_respresentation)[::-1]\n",
    "\n",
    "integer_to_binary(21)"
   ]
  }
 ],
 "metadata": {
  "kernelspec": {
   "display_name": "Python 3",
   "language": "python",
   "name": "python3"
  },
  "language_info": {
   "codemirror_mode": {
    "name": "ipython",
    "version": 3
   },
   "file_extension": ".py",
   "mimetype": "text/x-python",
   "name": "python",
   "nbconvert_exporter": "python",
   "pygments_lexer": "ipython3",
   "version": "3.9.6"
  }
 },
 "nbformat": 4,
 "nbformat_minor": 5
}
