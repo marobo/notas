{
 "cells": [
  {
   "cell_type": "markdown",
   "id": "308b7e2b",
   "metadata": {},
   "source": [
    "# Ano"
   ]
  },
  {
   "cell_type": "code",
   "execution_count": 161,
   "id": "350582cf",
   "metadata": {},
   "outputs": [
    {
     "data": {
      "text/plain": [
       "3"
      ]
     },
     "execution_count": 161,
     "metadata": {},
     "output_type": "execute_result"
    }
   ],
   "source": [
    "def binary_to_decimal(binaries):\n",
    "    binary = str(binaries)\n",
    "    binari = binary[::-1]\n",
    "    decimal = 0\n",
    "    for index, bi in enumerate(binari, 0):\n",
    "        b = int(bi)\n",
    "        i = int(index)\n",
    "        power = 2**i\n",
    "        decimal += b * power\n",
    "    return decimal\n",
    "binary_to_decimal('0011')"
   ]
  },
  {
   "cell_type": "code",
   "execution_count": 162,
   "id": "f1979ccd",
   "metadata": {},
   "outputs": [],
   "source": [
    "assert binary_to_decimal(\"1001\") == 9\n",
    "assert binary_to_decimal(\"0011\") == 3"
   ]
  },
  {
   "cell_type": "markdown",
   "id": "c17fc2af",
   "metadata": {},
   "source": [
    "# Niko"
   ]
  },
  {
   "cell_type": "code",
   "execution_count": 163,
   "id": "62cb1f50",
   "metadata": {},
   "outputs": [
    {
     "data": {
      "text/plain": [
       "12"
      ]
     },
     "execution_count": 163,
     "metadata": {},
     "output_type": "execute_result"
    }
   ],
   "source": [
    "def niko_binary_to_decimal(binary): \n",
    "    decimal = 0 \n",
    "    binary = binary[::-1]\n",
    "    for digit in binary: \n",
    "        decimal = decimal * 2 + int(digit) \n",
    "    return (decimal)\n",
    "\n",
    "niko_binary_to_decimal(\"0011\")"
   ]
  },
  {
   "cell_type": "code",
   "execution_count": 164,
   "id": "008ac00a",
   "metadata": {},
   "outputs": [
    {
     "ename": "AssertionError",
     "evalue": "",
     "output_type": "error",
     "traceback": [
      "\u001b[0;31m---------------------------------------------------------------------------\u001b[0m",
      "\u001b[0;31mAssertionError\u001b[0m                            Traceback (most recent call last)",
      "\u001b[0;32m<ipython-input-164-998b17bd9ffc>\u001b[0m in \u001b[0;36m<module>\u001b[0;34m\u001b[0m\n\u001b[1;32m      1\u001b[0m \u001b[0;32massert\u001b[0m \u001b[0mniko_binary_to_decimal\u001b[0m\u001b[0;34m(\u001b[0m\u001b[0;34m\"1001\"\u001b[0m\u001b[0;34m)\u001b[0m \u001b[0;34m==\u001b[0m \u001b[0;36m9\u001b[0m\u001b[0;34m\u001b[0m\u001b[0;34m\u001b[0m\u001b[0m\n\u001b[0;32m----> 2\u001b[0;31m \u001b[0;32massert\u001b[0m \u001b[0mniko_binary_to_decimal\u001b[0m\u001b[0;34m(\u001b[0m\u001b[0;34m\"0011\"\u001b[0m\u001b[0;34m)\u001b[0m \u001b[0;34m==\u001b[0m \u001b[0;36m3\u001b[0m\u001b[0;34m\u001b[0m\u001b[0;34m\u001b[0m\u001b[0m\n\u001b[0m",
      "\u001b[0;31mAssertionError\u001b[0m: "
     ]
    }
   ],
   "source": [
    "assert niko_binary_to_decimal(\"1001\") == 9\n",
    "assert niko_binary_to_decimal(\"0011\") == 3"
   ]
  },
  {
   "cell_type": "markdown",
   "id": "bfb27adf",
   "metadata": {},
   "source": [
    "# Anders"
   ]
  },
  {
   "cell_type": "code",
   "execution_count": 165,
   "id": "6e729102",
   "metadata": {},
   "outputs": [
    {
     "data": {
      "text/plain": [
       "3"
      ]
     },
     "execution_count": 165,
     "metadata": {},
     "output_type": "execute_result"
    }
   ],
   "source": [
    "def convert_binary_to_decimal(binary_number):\n",
    "    BINARY_VALUES = [8, 4, 2, 1]\n",
    "    binary_number = str(binary_number)\n",
    "    binary_numbers = list(binary_number)\n",
    "    decimal_number = 0\n",
    "    for index, value in enumerate(binary_numbers):\n",
    "        decimal_number += BINARY_VALUES[index] * int(value)\n",
    "    return decimal_number\n",
    "convert_binary_to_decimal(\"0011\")"
   ]
  },
  {
   "cell_type": "code",
   "execution_count": 166,
   "id": "a8860878",
   "metadata": {},
   "outputs": [],
   "source": [
    "assert convert_binary_to_decimal(\"1001\") == 9\n",
    "assert convert_binary_to_decimal(\"0011\") == 3"
   ]
  },
  {
   "cell_type": "markdown",
   "id": "04051414",
   "metadata": {},
   "source": [
    "# Ony"
   ]
  },
  {
   "cell_type": "code",
   "execution_count": 167,
   "id": "106a117a",
   "metadata": {},
   "outputs": [
    {
     "data": {
      "text/plain": [
       "3"
      ]
     },
     "execution_count": 167,
     "metadata": {},
     "output_type": "execute_result"
    }
   ],
   "source": [
    "def binary_to_decimal_number(binary_number):\n",
    "    decimal_number = []\n",
    "    binary_value = [8, 4, 2, 1]\n",
    "    to_int = [int(item) for item in binary_number]\n",
    "    for number_1, number_2 in zip(binary_value, to_int):\n",
    "        decimal_number.append(number_1 * number_2)\n",
    "    return sum(decimal_number)\n",
    "binary_to_decimal_number('0011')"
   ]
  },
  {
   "cell_type": "code",
   "execution_count": 168,
   "id": "ccc28acd",
   "metadata": {},
   "outputs": [],
   "source": [
    "assert convert_binary_to_decimal(\"1001\") == 9\n",
    "assert convert_binary_to_decimal(\"0011\") == 3"
   ]
  },
  {
   "cell_type": "code",
   "execution_count": null,
   "id": "321ac80d",
   "metadata": {},
   "outputs": [],
   "source": []
  }
 ],
 "metadata": {
  "kernelspec": {
   "display_name": "Python 3",
   "language": "python",
   "name": "python3"
  },
  "language_info": {
   "codemirror_mode": {
    "name": "ipython",
    "version": 3
   },
   "file_extension": ".py",
   "mimetype": "text/x-python",
   "name": "python",
   "nbconvert_exporter": "python",
   "pygments_lexer": "ipython3",
   "version": "3.9.6"
  }
 },
 "nbformat": 4,
 "nbformat_minor": 5
}
