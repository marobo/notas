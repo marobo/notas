{
 "cells": [
  {
   "cell_type": "code",
   "execution_count": 7,
   "metadata": {},
   "outputs": [],
   "source": [
    "import requests\n",
    "import os.path\n",
    "\n",
    "url = (\"https://hamutuk.tl/en/media/by_organisation/DNSAK/by_activity/none/Final_MAF_El_Nino_Report.pdf\")\n",
    "\n",
    "def download_file(filename, url):\n",
    "    \"\"\"\n",
    "    Download an URL to a file\n",
    "    \"\"\"\n",
    "    with open(filename, 'wb') as fout:\n",
    "        response = requests.get(url, stream=True)\n",
    "        response.raise_for_status()\n",
    "        # Write response data to file\n",
    "        for block in response.iter_content(4096):\n",
    "            fout.write(block)\n",
    "\n",
    "def download_if_not_exists(filename, url):\n",
    "    \"\"\"\n",
    "    Download a URL to a file if the file\n",
    "    does not exist already.\n",
    "\n",
    "    Returns\n",
    "    -------\n",
    "    True if the file was downloaded,\n",
    "    False if it already existed\n",
    "    \"\"\"\n",
    "    if not os.path.exists(filename):\n",
    "        download_file(filename, url)\n",
    "        return True\n",
    "    return False\n",
    "download_file(filename=\"testtt\", url=\"https://www.youtube.com/watch?v=8067Mwe7WWQ\")"
   ]
  },
  {
   "cell_type": "code",
   "execution_count": 2,
   "metadata": {},
   "outputs": [
    {
     "ename": "ModuleNotFoundError",
     "evalue": "No module named 'pytube'",
     "output_type": "error",
     "traceback": [
      "\u001b[0;31m---------------------------------------------------------------------------\u001b[0m",
      "\u001b[0;31mModuleNotFoundError\u001b[0m                       Traceback (most recent call last)",
      "\u001b[0;32m<ipython-input-2-e6217c8f9c35>\u001b[0m in \u001b[0;36m<module>\u001b[0;34m()\u001b[0m\n\u001b[0;32m----> 1\u001b[0;31m \u001b[0;32mimport\u001b[0m \u001b[0mpytube\u001b[0m\u001b[0;34m\u001b[0m\u001b[0;34m\u001b[0m\u001b[0m\n\u001b[0m",
      "\u001b[0;31mModuleNotFoundError\u001b[0m: No module named 'pytube'"
     ]
    }
   ],
   "source": [
    "import pytube"
   ]
  },
  {
   "cell_type": "code",
   "execution_count": null,
   "metadata": {},
   "outputs": [],
   "source": []
  }
 ],
 "metadata": {
  "kernelspec": {
   "display_name": "Python 3",
   "language": "python",
   "name": "python3"
  },
  "language_info": {
   "codemirror_mode": {
    "name": "ipython",
    "version": 3
   },
   "file_extension": ".py",
   "mimetype": "text/x-python",
   "name": "python",
   "nbconvert_exporter": "python",
   "pygments_lexer": "ipython3",
   "version": "3.6.7"
  }
 },
 "nbformat": 4,
 "nbformat_minor": 2
}
