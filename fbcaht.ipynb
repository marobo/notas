{
 "cells": [
  {
   "cell_type": "code",
   "execution_count": 1,
   "metadata": {
    "scrolled": true
   },
   "outputs": [
    {
     "ename": "ImportError",
     "evalue": "No module named fbchat",
     "output_type": "error",
     "traceback": [
      "\u001b[0;31m---------------------------------------------------------------------------\u001b[0m",
      "\u001b[0;31mImportError\u001b[0m                               Traceback (most recent call last)",
      "\u001b[0;32m<ipython-input-1-9a814120f21f>\u001b[0m in \u001b[0;36m<module>\u001b[0;34m()\u001b[0m\n\u001b[0;32m----> 1\u001b[0;31m \u001b[0;32mimport\u001b[0m \u001b[0mfbchat\u001b[0m\u001b[0;34m\u001b[0m\u001b[0m\n\u001b[0m\u001b[1;32m      2\u001b[0m \u001b[0;32mfrom\u001b[0m \u001b[0mgetpass\u001b[0m \u001b[0;32mimport\u001b[0m \u001b[0mgetpass\u001b[0m\u001b[0;34m\u001b[0m\u001b[0m\n\u001b[1;32m      3\u001b[0m \u001b[0;34m\u001b[0m\u001b[0m\n\u001b[1;32m      4\u001b[0m \u001b[0musername\u001b[0m \u001b[0;34m=\u001b[0m \u001b[0mstr\u001b[0m\u001b[0;34m(\u001b[0m\u001b[0minput\u001b[0m\u001b[0;34m(\u001b[0m\u001b[0;34m\"Username: \"\u001b[0m\u001b[0;34m)\u001b[0m\u001b[0;34m)\u001b[0m\u001b[0;34m\u001b[0m\u001b[0m\n\u001b[1;32m      5\u001b[0m \u001b[0mclient\u001b[0m \u001b[0;34m=\u001b[0m \u001b[0mfbchat\u001b[0m\u001b[0;34m.\u001b[0m\u001b[0mClient\u001b[0m\u001b[0;34m(\u001b[0m\u001b[0musername\u001b[0m\u001b[0;34m,\u001b[0m \u001b[0mgetpass\u001b[0m\u001b[0;34m(\u001b[0m\u001b[0;34m)\u001b[0m\u001b[0;34m)\u001b[0m\u001b[0;34m\u001b[0m\u001b[0m\n",
      "\u001b[0;31mImportError\u001b[0m: No module named fbchat"
     ]
    }
   ],
   "source": [
    "import fbchat\n",
    "from getpass import getpass\n",
    "\n",
    "username = str(input(\"Username: \"))\n",
    "client = fbchat.Client(username, getpass())\n",
    "no_of_friends = int(input(\"Number of friends: \"))\n",
    "for i in range(no_of_friends):\n",
    "    name = str(input(\"Name: \"))\n",
    "    friends = client.searchForUsers(name) # return a list of names\n",
    "    friend = friends[0]\n",
    "    msg = str(input(\"Message: \"))\n",
    "    sent = client.sendMessage(msg, thread_id=friend.uid) \n",
    "    if sent:\n",
    "        print(\"Message sent successfully!\")"
   ]
  },
  {
   "cell_type": "code",
   "execution_count": 2,
   "metadata": {},
   "outputs": [],
   "source": [
    "import requests\n",
    "import os.path\n",
    "\n",
    "def download_file(filename, url):\n",
    "    \"\"\"\n",
    "    Download an URL to a file\n",
    "    \"\"\"\n",
    "    with open(filename, 'wb') as fout:\n",
    "        response = requests.get(url, stream=True)\n",
    "        response.raise_for_status()\n",
    "        # Write response data to file\n",
    "        for block in response.iter_content(4096):\n",
    "            fout.write(block)\n",
    "\n",
    "def download_if_not_exists(filename, url):\n",
    "    \"\"\"\n",
    "    Download a URL to a file if the file\n",
    "    does not exist already.\n",
    "\n",
    "    Returns\n",
    "    -------\n",
    "    True if the file was downloaded,\n",
    "    False if it already existed\n",
    "    \"\"\"\n",
    "    if not os.path.exists(filename):\n",
    "        download_file(filename, url)\n",
    "        return True\n",
    "    return Fals"
   ]
  },
  {
   "cell_type": "code",
   "execution_count": null,
   "metadata": {},
   "outputs": [],
   "source": []
  }
 ],
 "metadata": {
  "kernelspec": {
   "display_name": "Python 2",
   "language": "python",
   "name": "python2"
  },
  "language_info": {
   "codemirror_mode": {
    "name": "ipython",
    "version": 2
   },
   "file_extension": ".py",
   "mimetype": "text/x-python",
   "name": "python",
   "nbconvert_exporter": "python",
   "pygments_lexer": "ipython2",
   "version": "2.7.15rc1"
  }
 },
 "nbformat": 4,
 "nbformat_minor": 2
}
