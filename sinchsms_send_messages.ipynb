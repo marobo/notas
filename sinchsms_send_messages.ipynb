{
 "cells": [
  {
   "cell_type": "code",
   "execution_count": 1,
   "metadata": {},
   "outputs": [
    {
     "ename": "ImportError",
     "evalue": "No module named sinchsms",
     "output_type": "error",
     "traceback": [
      "\u001b[0;31m---------------------------------------------------------------------------\u001b[0m",
      "\u001b[0;31mImportError\u001b[0m                               Traceback (most recent call last)",
      "\u001b[0;32m<ipython-input-1-9ae87f4bf023>\u001b[0m in \u001b[0;36m<module>\u001b[0;34m()\u001b[0m\n\u001b[1;32m      1\u001b[0m \u001b[0;32mimport\u001b[0m \u001b[0mtime\u001b[0m\u001b[0;34m\u001b[0m\u001b[0m\n\u001b[0;32m----> 2\u001b[0;31m \u001b[0;32mfrom\u001b[0m \u001b[0msinchsms\u001b[0m \u001b[0;32mimport\u001b[0m \u001b[0mSinchSMS\u001b[0m\u001b[0;34m\u001b[0m\u001b[0m\n\u001b[0m\u001b[1;32m      3\u001b[0m \u001b[0mnumber\u001b[0m \u001b[0;34m=\u001b[0m \u001b[0;34m'+67076025211'\u001b[0m\u001b[0;34m\u001b[0m\u001b[0m\n\u001b[1;32m      4\u001b[0m \u001b[0mmessage\u001b[0m \u001b[0;34m=\u001b[0m \u001b[0;34m'I love SMS!'\u001b[0m\u001b[0;34m\u001b[0m\u001b[0m\n\u001b[1;32m      5\u001b[0m \u001b[0myour_app_key\u001b[0m \u001b[0;34m=\u001b[0m \u001b[0;34m'7060e399'\u001b[0m\u001b[0;34m\u001b[0m\u001b[0m\n",
      "\u001b[0;31mImportError\u001b[0m: No module named sinchsms"
     ]
    }
   ],
   "source": [
    "import time\n",
    "from sinchsms import SinchSMS\n",
    "number = '+67076025211'\n",
    "message = 'I love SMS!'\n",
    "your_app_key = '7060e399'\n",
    "your_app_secret = 'your_app_secret_here'\n",
    "client = SinchSMS(your_app_key, your_app_secret)\n",
    "print(\"Sending '%s' to %s\" % (message, number))\n",
    "response = client.send_message(number, message)\n",
    "message_id = response['messageId']\n",
    "response = client.check_status(message_id)\n",
    "while response['status'] != 'Successful':\n",
    "    print(response['status'])\n",
    "time.sleep(1)\n",
    "response = client.check_status(message_id)\n",
    "print(response['status'])"
   ]
  }
 ],
 "metadata": {
  "kernelspec": {
   "display_name": "Python 2",
   "language": "python",
   "name": "python2"
  },
  "language_info": {
   "codemirror_mode": {
    "name": "ipython",
    "version": 2
   },
   "file_extension": ".py",
   "mimetype": "text/x-python",
   "name": "python",
   "nbconvert_exporter": "python",
   "pygments_lexer": "ipython2",
   "version": "2.7.15rc1"
  }
 },
 "nbformat": 4,
 "nbformat_minor": 2
}
