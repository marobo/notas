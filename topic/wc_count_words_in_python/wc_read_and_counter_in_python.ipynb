{
 "cells": [
  {
   "cell_type": "markdown",
   "id": "2cc49d8a",
   "metadata": {},
   "source": [
    "# Read a file in python"
   ]
  },
  {
   "cell_type": "code",
   "execution_count": 113,
   "id": "2c92d84a",
   "metadata": {},
   "outputs": [
    {
     "name": "stdout",
     "output_type": "stream",
     "text": [
      "['Hello world!\\n', 'How are doing?\\n', 'This is my test WC...']\n"
     ]
    }
   ],
   "source": [
    "with open('WC_text.txt') as fp:\n",
    "    print(fp.readlines())"
   ]
  },
  {
   "cell_type": "markdown",
   "id": "3e10254d",
   "metadata": {},
   "source": [
    "# Read a file in python and count the lines inside"
   ]
  },
  {
   "cell_type": "code",
   "execution_count": 119,
   "id": "2c5d770a",
   "metadata": {},
   "outputs": [
    {
     "data": {
      "text/plain": [
       "3"
      ]
     },
     "execution_count": 119,
     "metadata": {},
     "output_type": "execute_result"
    }
   ],
   "source": [
    "def count_line():\n",
    "    with open('WC_text.txt') as fp:\n",
    "        lines = fp.readlines()\n",
    "    count = 0\n",
    "    for line in lines:\n",
    "        count += 1\n",
    "    return count\n",
    "\n",
    "count_line()"
   ]
  },
  {
   "cell_type": "markdown",
   "id": "33b540df",
   "metadata": {},
   "source": [
    "# Read a file in python and count the words inside"
   ]
  },
  {
   "cell_type": "code",
   "execution_count": 120,
   "id": "f77e8812",
   "metadata": {},
   "outputs": [
    {
     "data": {
      "text/plain": [
       "10"
      ]
     },
     "execution_count": 120,
     "metadata": {},
     "output_type": "execute_result"
    }
   ],
   "source": [
    "def count_words():\n",
    "    with open('WC_text.txt', 'r') as fp:\n",
    "        lines = fp.read()\n",
    "        word_list = lines.split()\n",
    "        number_of_words = len(word_list)\n",
    "    return number_of_words\n",
    "count_words()"
   ]
  },
  {
   "cell_type": "markdown",
   "id": "82d73005",
   "metadata": {},
   "source": [
    "# Read a file in python and count the charaters inside"
   ]
  },
  {
   "cell_type": "code",
   "execution_count": 121,
   "id": "77195755",
   "metadata": {},
   "outputs": [
    {
     "data": {
      "text/plain": [
       "42"
      ]
     },
     "execution_count": 121,
     "metadata": {},
     "output_type": "execute_result"
    }
   ],
   "source": [
    "def count_character():\n",
    "    with open('WC_text.txt') as fp:\n",
    "        lines = fp.read()\n",
    "        word_list = lines.replace(\" \", \"\")\n",
    "        number_of_words = len(word_list)\n",
    "    return number_of_words\n",
    "count_character()"
   ]
  },
  {
   "cell_type": "markdown",
   "id": "c84fea56",
   "metadata": {},
   "source": [
    "# Combine the functions above in one function"
   ]
  },
  {
   "cell_type": "code",
   "execution_count": 123,
   "id": "ab38512d",
   "metadata": {},
   "outputs": [
    {
     "data": {
      "text/plain": [
       "'3 lines, 10 words, 42 charaters'"
      ]
     },
     "execution_count": 123,
     "metadata": {},
     "output_type": "execute_result"
    }
   ],
   "source": [
    "def wc():\n",
    "    with open('WC_text.txt', 'r') as fp:\n",
    "        \n",
    "        # Read a file\n",
    "        read_file = fp.readlines()\n",
    "    count_lines = 0\n",
    "    count_words = 0\n",
    "    count_character = 0\n",
    "    for line in read_file:\n",
    "       \n",
    "        # Count line\n",
    "        count_lines += 1\n",
    "        \n",
    "        # Count words\n",
    "        word_list = line.split()\n",
    "        count_words += len(word_list)\n",
    "        \n",
    "        # Count character\n",
    "        word_character = line.replace(\" \", \"\")\n",
    "        count_character += len(word_character)\n",
    "    return f\"{count_lines} lines, {count_words} words, {count_character} charaters\"\n",
    "wc()"
   ]
  }
 ],
 "metadata": {
  "kernelspec": {
   "display_name": "Python 3",
   "language": "python",
   "name": "python3"
  },
  "language_info": {
   "codemirror_mode": {
    "name": "ipython",
    "version": 3
   },
   "file_extension": ".py",
   "mimetype": "text/x-python",
   "name": "python",
   "nbconvert_exporter": "python",
   "pygments_lexer": "ipython3",
   "version": "3.9.6"
  }
 },
 "nbformat": 4,
 "nbformat_minor": 5
}
